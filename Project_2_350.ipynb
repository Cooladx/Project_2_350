{
 "cells": [
  {
   "cell_type": "markdown",
   "metadata": {},
   "source": [
    "# Project 2 - Couch db \n",
    "* Group 2"
   ]
  },
  {
   "cell_type": "markdown",
   "metadata": {},
   "source": [
    "# Installation\n",
    "\n",
    "* WSL / Linux:      \n",
    "    There are several ways to download on WSL/Linux, from source, docker and the snap store. I found the easiest way to download the file was the snap store, I had several errors with the docker version and the cource would not install the couchdb package.\n",
    "\n",
    "    * Command 1:  \n",
    "    sudo snap install couchdb\n",
    "\n",
    "    * Command 2:    \n",
    "    sudo snap set couchdb admin=[*password] setcookie=[]\n",
    "    \n",
    "    This will set your login information and a cookie for session information as it is web based.\n",
    "\n",
    "    * command 2 example:\n",
    "    sudo snap set couchdb admin=[abc] setcookie=[random]\n",
    "\n",
    "    This is an example of the command filled in, random is an option for the cookie argument. \n",
    "\n",
    "\n",
    "* Windows\n",
    "\n",
    "    select windows box on installations, click download, launch file named \"apache-couchdb-version\". Fill out prompts for username and password, validate credentials, do the same steps for the cookie.\n",
    "\n",
    "***\n",
    "\n",
    "## Verify installation for Linux\n",
    "\n",
    "  First, check if you even have couchdb as a snap. You can do this through a simple command.\n",
    "\n",
    "* Command 1:\n",
    "\n",
    "  snap list\n",
    "\n",
    "  should show something like: couchdb      3.4.2             87     latest/stable    apache-couchdb  -\n",
    "\n",
    "\n",
    "   Next, start the service. Snap can be a bit ficky so you'll have to do this command:\n",
    "\n",
    "  * Command 2\n",
    "\n",
    "   sudo snap start couchdb \n",
    "\n",
    "    Finally, open web browser to http://localhost:5984/_utils (ports defined when installing) and it will bring you to a login page, enter your credentails and you will have access to the dashboard.\n",
    "\n",
    "\n",
    "  If for whatever reason, the username admin with the password you set doesn't work at all, you'll have to edit this in the local.ini file with a plain text password. For the directory path, it should be at /var/snap/couchdb/87/etc/local.ini. Do the following:\n",
    "\n",
    "  \n",
    "* sudo nano /var/snap/couchdb/87/etc/local.ini\n",
    "\n",
    "   You'll see in the section [admins] that admin might have a hashed value. Here's what it has:\n",
    "   \n",
    " To create an admin account uncomment the '[admins]' section below and add a\n",
    " line in the format 'username = password'. When you next start CouchDB, it\n",
    " will change the password to a hash (so that your passwords don't linger\n",
    " around in plain-text files). You can add more admin accounts with more\n",
    " 'username = password' lines. Don't forget to restart CouchDB after\n",
    " changing this.\n",
    "\n",
    "[admins]\n",
    "admin = -pbkdf2:sha256-...\n",
    "\n",
    "   \n",
    "   Remove that and put your password you set from  sudo snap set couchdb admin=[*password] setcookie=[]\n",
    "\n",
    "In my case, I did admin = abc, then I did ctrl o, enter, then ctrl x to exit. Finally, you should reset the couchdb so it saves that password with this one command to restart the service:\n",
    "\n",
    " sudo snap restart couchdb\n",
    "***\n",
    "\n",
    "## Verify installation for Windows\n",
    "\n",
    "  This should work out of the box. Open web browser to http://localhost:5984/_utils (ports defined when installing) and it will bring you to a login page, enter your credentails and you will have access to the dashboard.\n"
   ]
  },
  {
   "cell_type": "markdown",
   "metadata": {},
   "source": [
    "# Requirements\n",
    "\n",
    "* Apache CouchDB uses a web based interface to interact with the service, a browser is required. \n",
    "\n",
    "* No offical hardware Requirements for running couchdb, besides a network connection. \n",
    "\n",
    "* Runs on most hardware, even forum posts of couchdb running on 1 core, 512 Mb of ram and 20Gb of storage. Extremely flexible DB system. \n",
    "\n",
    "    # Support\n",
    "\n",
    "    * Has support for popular linux distros such as CentOS, Debian, and Ubuntu; Support for FreeBSD, MacOS, and Windows. \n",
    "\n",
    "    * if the device can run the Snap store or Docker couchdb can be downloaded and initialized.\n"
   ]
  },
  {
   "cell_type": "markdown",
   "metadata": {},
   "source": [
    "***\n",
    "## This section will be on Databases from Creating, Deleting, and Retriving them all within CouchDB\n",
    "***"
   ]
  },
  {
   "cell_type": "markdown",
   "metadata": {},
   "source": [
    "### Running the DB to Authenicate with your user and create Database"
   ]
  },
  {
   "cell_type": "code",
   "execution_count": 6,
   "metadata": {},
   "outputs": [],
   "source": [
    "import requests\n",
    "from requests.auth import HTTPBasicAuth\n",
    "\n",
    "# Set up the CouchDB URL\n",
    "couch_url = \"http://127.0.0.1:5984/\"\n",
    "\n",
    "# Correct admin username and password\n",
    "username = \"admin\"  # Your CouchDB admin username\n",
    "password = \"abc\"  # Your actual CouchDB admin password\n",
    "\n",
    "# Create a database in CouchDB (Be sure to change within the quotes of the name you desire)\n",
    "response = requests.put(couch_url + \"my_database2\", auth=HTTPBasicAuth(username, password))\n",
    "\n",
    "# Print out the response\n",
    "print(response.status_code)  # Check if it was successful (should be 201 for created) \n",
    "                             # (Otherwise error 412 as it's the same DB you made)\n",
    "print(response.json())  # Detailed response from CouchDB\n"
   ]
  },
  {
   "cell_type": "markdown",
   "metadata": {},
   "source": [
    "### Deletes Database within couchDB. Change the db you have in the quotes for which one you choose to delete"
   ]
  },
  {
   "cell_type": "code",
   "execution_count": null,
   "metadata": {},
   "outputs": [],
   "source": [
    "response = requests.delete(couch_url + \"my_database\", auth=HTTPBasicAuth(username, password))\n",
    "print(response.status_code)  # Should return 200 if the database was deleted\n",
    "                             # Otherwise, error 404 for the database that doesn't exist\n",
    "print(response.json())  # More info about the deletion\n"
   ]
  },
  {
   "cell_type": "markdown",
   "metadata": {},
   "source": [
    "### Retreives all Databases stored within CouchDB. DO NOT change \"_all_dbs\", that is there on purpose for the requests library to function"
   ]
  },
  {
   "cell_type": "code",
   "execution_count": null,
   "metadata": {},
   "outputs": [],
   "source": [
    "response = requests.get(couch_url + \"_all_dbs\", auth=HTTPBasicAuth(username, password))\n",
    "print(response.status_code)\n",
    "print(response.json())  # List of all databases you created.\n"
   ]
  },
  {
   "cell_type": "markdown",
   "metadata": {},
   "source": [
    "***\n",
    "## This section will be on interacting with the documents themselves to parse JSON data within the Databases in CouchDB\n",
    "***"
   ]
  },
  {
   "cell_type": "markdown",
   "metadata": {},
   "source": [
    "### Creating Documents in your desired DB"
   ]
  },
  {
   "cell_type": "code",
   "execution_count": null,
   "metadata": {},
   "outputs": [],
   "source": [
    "# Define the document, this is through JSON as this is a document based DB.\n",
    "document = {\n",
    "    \"name\": \"John Doe\",\n",
    "    \"email\": \"johndoe@example.com\",\n",
    "    \"age\": 30\n",
    "}\n",
    "\n",
    "# Insert the document into the DB (be sure to change DB into what you want)\n",
    "response = requests.post(couch_url + \"my_database\", json=document, auth=HTTPBasicAuth(username, password))\n",
    "print(response.status_code)  # Should return 201 for created\n",
    "print(response.json())  # Document details, including the _id and _rev\n"
   ]
  },
  {
   "cell_type": "markdown",
   "metadata": {},
   "source": [
    "### Outputs the Document JSON | Should change doc_id and whatever your db is in response"
   ]
  },
  {
   "cell_type": "code",
   "execution_count": null,
   "metadata": {},
   "outputs": [],
   "source": [
    "doc_id = \"Some_document_ID\"  # Replace with your actual document ID\n",
    "response = requests.get(couch_url + \"my_database/\" + doc_id, auth=HTTPBasicAuth(username, password))\n",
    "print(response.status_code)\n",
    "print(response.json())  # The content of the document\n"
   ]
  },
  {
   "cell_type": "markdown",
   "metadata": {},
   "source": [
    "### Modification of the document |  Change doc_id and whatever db is in response"
   ]
  },
  {
   "cell_type": "code",
   "execution_count": null,
   "metadata": {},
   "outputs": [],
   "source": [
    "# Example: Retrieve the document, modify it, and send it back with _rev\n",
    "doc_id = \"Some_document_ID\"  # Replace with your actual document ID\n",
    "response = requests.get(couch_url + \"my_database/\" + doc_id, auth=HTTPBasicAuth(username, password))\n",
    "\n",
    "if response.status_code == 200:\n",
    "    document = response.json()\n",
    "    document[\"age\"] = 31  # Update the document\n",
    "\n",
    "    # Send the updated document\n",
    "    response = requests.put(couch_url + \"my_database/\" + doc_id, json=document, auth=HTTPBasicAuth(username, password))\n",
    "    print(response.status_code)  # Should return 201 if the update is successful\n",
    "    print(response.json())  # Updated document details\n"
   ]
  },
  {
   "cell_type": "markdown",
   "metadata": {},
   "source": [
    "### Deletion of document | Change doc_id and whatever db is in response"
   ]
  },
  {
   "cell_type": "code",
   "execution_count": null,
   "metadata": {},
   "outputs": [],
   "source": [
    "doc_id = \"Some_document_ID\"  # Replace with your actual document ID\n",
    "response = requests.get(couch_url + \"my_database/\" + doc_id, auth=HTTPBasicAuth(username, password))\n",
    "\n",
    "if response.status_code == 200:\n",
    "    document = response.json()\n",
    "    rev = document[\"_rev\"]  # Get the revision ID for deletion\n",
    "\n",
    "    # Delete the document\n",
    "    response = requests.delete(couch_url + \"my_database/\" + doc_id + \"?rev=\" + rev, auth=HTTPBasicAuth(username, password))\n",
    "    print(response.status_code)  # Should return 200 for successful deletion\n",
    "    print(response.json())  # Confirmation of deletion\n"
   ]
  }
 ],
 "metadata": {
  "kernelspec": {
   "display_name": "Python 3 (ipykernel)",
   "language": "python",
   "name": "python3"
  },
  "language_info": {
   "codemirror_mode": {
    "name": "ipython",
    "version": 3
   },
   "file_extension": ".py",
   "mimetype": "text/x-python",
   "name": "python",
   "nbconvert_exporter": "python",
   "pygments_lexer": "ipython3",
   "version": "3.12.7"
  }
 },
 "nbformat": 4,
 "nbformat_minor": 4
}
