{
 "cells": [
  {
   "cell_type": "markdown",
   "metadata": {},
   "source": [
    "# Project 2 - Couch db \n",
    "* Group 2"
   ]
  },
  {
   "cell_type": "markdown",
   "metadata": {},
   "source": [
    "# Installation\n",
    "\n",
    "* WSL / Linux:      \n",
    "    There are several ways to download on WSL/Linux, from source, docker and the snap store. I found the easiest way to download the file was the snap store, I had several errors with the docker version and the cource would not install the couchdb package.\n",
    "\n",
    "    * Command 1:  \n",
    "    sudo snap install couch db\n",
    "\n",
    "    * Command 2:    \n",
    "    sudo snap set couchdb admin=[*password] setcookie=[]\n",
    "    \n",
    "    This will set your login information and a cookie for session information as it is web based.\n",
    "\n",
    "    * command 2 example:\n",
    "    sudo snap set couchdb admin=[abc] setcookie=[random]\n",
    "\n",
    "    This is an example of the command filled in, random is an option for the cookie argument. \n",
    "\n",
    "\n",
    "* Windows\n",
    "\n",
    "    select windows box on installations, click download, launch file named \"apache-couchdb-version\". Fill out prompts for username and password, validate credentials, do the same steps for the cookie.\n",
    "\n",
    "* Verify installation\n",
    "\n",
    "    Open web browser to http://localhost:5984/_utils (ports defined when installing) and it will bring you to a login page, enter your credentails and you will have access to the dashboard."
   ]
  },
  {
   "cell_type": "markdown",
   "metadata": {},
   "source": [
    "# Requirements\n",
    "\n",
    "* Apache CouchDB uses a web based interface to interact with the service, a browser is required. \n",
    "\n",
    "* No offical hardware Requirements for running couchdb, besides a network connection. \n",
    "\n",
    "* Runs on most hardware, even forum posts of couchdb running on 1 core, 512 Mb of ram and 20Gb of storage. Extremely flexible DB system. \n",
    "\n",
    "    # Support\n",
    "\n",
    "    * Has support for popular linux distros such as CentOS, Debian, and Ubuntu; Support for FreeBSD, MacOS, and Windows. \n",
    "\n",
    "    * if the device can run the Snap store or Docker couchdb can be downloaded and initialized.\n"
   ]
  }
 ],
 "metadata": {
  "kernelspec": {
   "display_name": "base",
   "language": "python",
   "name": "python3"
  },
  "language_info": {
   "codemirror_mode": {
    "name": "ipython",
    "version": 3
   },
   "file_extension": ".py",
   "mimetype": "text/x-python",
   "name": "python",
   "nbconvert_exporter": "python",
   "pygments_lexer": "ipython3",
   "version": "3.12.7"
  }
 },
 "nbformat": 4,
 "nbformat_minor": 2
}
